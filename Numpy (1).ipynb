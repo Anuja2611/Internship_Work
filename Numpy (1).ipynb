{
 "cells": [
  {
   "cell_type": "code",
   "execution_count": 1,
   "id": "40a0e27b-7a17-40c5-a93e-b256da02e766",
   "metadata": {},
   "outputs": [
    {
     "name": "stdout",
     "output_type": "stream",
     "text": [
      "Requirement already satisfied: numpy in c:\\users\\swaro\\anaconda3\\lib\\site-packages (1.26.4)\n",
      "Note: you may need to restart the kernel to use updated packages.\n"
     ]
    }
   ],
   "source": [
    "pip install numpy"
   ]
  },
  {
   "cell_type": "code",
   "execution_count": 3,
   "id": "d8bc5ed1-f082-41af-a197-d85f07cfdbc1",
   "metadata": {},
   "outputs": [
    {
     "name": "stdout",
     "output_type": "stream",
     "text": [
      "[1 2 3 4 5]\n"
     ]
    }
   ],
   "source": [
    "import numpy as np\n",
    "arr=np.array([1,2,3,4,5])\n",
    "print(arr)"
   ]
  },
  {
   "cell_type": "code",
   "execution_count": 5,
   "id": "9af1942b-1fc7-4319-a112-0e20c1831450",
   "metadata": {},
   "outputs": [
    {
     "name": "stdout",
     "output_type": "stream",
     "text": [
      "<class 'numpy.ndarray'>\n"
     ]
    }
   ],
   "source": [
    "print(type(arr))"
   ]
  },
  {
   "cell_type": "code",
   "execution_count": 20,
   "id": "7221141e-502c-4b07-9d8d-2cb1fca06f51",
   "metadata": {},
   "outputs": [
    {
     "name": "stdout",
     "output_type": "stream",
     "text": [
      "40\n",
      "0\n"
     ]
    }
   ],
   "source": [
    "#zero dimentional array\n",
    "arr=np.array(40)\n",
    "print(arr)\n",
    "print(arr.ndim)"
   ]
  },
  {
   "cell_type": "code",
   "execution_count": 19,
   "id": "e5f73986-fbc2-4cb5-a8d5-3e2835aa3a54",
   "metadata": {},
   "outputs": [
    {
     "name": "stdout",
     "output_type": "stream",
     "text": [
      "1\n"
     ]
    }
   ],
   "source": [
    "#one dimensional array\n",
    "arr=np.array([10,20,30,40,50])\n",
    "arr\n",
    "print(arr.ndim)"
   ]
  },
  {
   "cell_type": "code",
   "execution_count": 21,
   "id": "56947add-1fbf-4cb8-a260-9b759937ded6",
   "metadata": {},
   "outputs": [
    {
     "name": "stdout",
     "output_type": "stream",
     "text": [
      "[[1 2 3]\n",
      " [4 5 6]]\n",
      "2\n"
     ]
    }
   ],
   "source": [
    "#two dimensional array\n",
    "arr=np.array([[1,2,3],\n",
    "             [4,5,6]])\n",
    "print(arr)\n",
    "print(arr.ndim)"
   ]
  },
  {
   "cell_type": "code",
   "execution_count": 24,
   "id": "5454b107-73f8-4726-9d11-96120b03a76e",
   "metadata": {},
   "outputs": [
    {
     "name": "stdout",
     "output_type": "stream",
     "text": [
      "[[[10 20 30]\n",
      "  [40 50 60]\n",
      "  [70 80 90]]]\n",
      "3\n"
     ]
    }
   ],
   "source": [
    "#three dimensional array\n",
    "arr=np.array([[[10,20,30],[40,50,60],[70,80,90]]])\n",
    "print(arr)\n",
    "print(arr.ndim)"
   ]
  },
  {
   "cell_type": "code",
   "execution_count": 30,
   "id": "683ee725-e56e-4741-910d-b10c9abbc920",
   "metadata": {},
   "outputs": [
    {
     "name": "stdout",
     "output_type": "stream",
     "text": [
      "[20 30 40 50]\n",
      "[20 40 60]\n"
     ]
    }
   ],
   "source": [
    "#\"sicing\"\n",
    "arr=np.array([10,20,30,40,50,60])\n",
    "arr\n",
    "print(arr[1:5])\n",
    "#sicing with intervals\n",
    "print(arr[1:6:2])"
   ]
  },
  {
   "cell_type": "code",
   "execution_count": 31,
   "id": "45416070-e292-447a-a444-45713e31dd88",
   "metadata": {},
   "outputs": [
    {
     "name": "stdout",
     "output_type": "stream",
     "text": [
      "60\n"
     ]
    }
   ],
   "source": [
    "#negative slicing \n",
    "print(arr[-1])"
   ]
  },
  {
   "cell_type": "code",
   "execution_count": 32,
   "id": "66d729cc-90c7-4234-978b-0b96b89a877e",
   "metadata": {},
   "outputs": [
    {
     "name": "stdout",
     "output_type": "stream",
     "text": [
      "[40 50]\n"
     ]
    }
   ],
   "source": [
    "print(arr[-3:-1])"
   ]
  },
  {
   "cell_type": "code",
   "execution_count": 35,
   "id": "b36b2731-13b5-4c11-8bfe-1d3e7350c78e",
   "metadata": {},
   "outputs": [
    {
     "name": "stdout",
     "output_type": "stream",
     "text": [
      "[30 40 50]\n"
     ]
    }
   ],
   "source": [
    "print(arr[-4:-1])"
   ]
  },
  {
   "cell_type": "code",
   "execution_count": 36,
   "id": "9a5b3161-161a-4e7c-8867-ae92b37802fa",
   "metadata": {},
   "outputs": [
    {
     "name": "stdout",
     "output_type": "stream",
     "text": [
      "int32\n"
     ]
    }
   ],
   "source": [
    "#checking data types of array\n",
    "print(arr.dtype)"
   ]
  },
  {
   "cell_type": "code",
   "execution_count": 37,
   "id": "a5761f26-86bf-40a9-9984-b7cf25413630",
   "metadata": {},
   "outputs": [
    {
     "name": "stdout",
     "output_type": "stream",
     "text": [
      "(6,)\n"
     ]
    }
   ],
   "source": [
    "#checking shape\n",
    "print(arr.shape)"
   ]
  },
  {
   "cell_type": "code",
   "execution_count": 38,
   "id": "fe8c426f-54a4-4de7-8c7b-0a5773a40f91",
   "metadata": {},
   "outputs": [
    {
     "name": "stdout",
     "output_type": "stream",
     "text": [
      "6\n"
     ]
    }
   ],
   "source": [
    "#checking size\n",
    "print(arr.size)"
   ]
  },
  {
   "cell_type": "code",
   "execution_count": 39,
   "id": "856b89eb-f590-4719-b21c-fa36e663a7a6",
   "metadata": {},
   "outputs": [
    {
     "name": "stdout",
     "output_type": "stream",
     "text": [
      "[[ 1  2  3]\n",
      " [ 4  5  6]\n",
      " [ 7  8  9]\n",
      " [10 11 12]]\n"
     ]
    }
   ],
   "source": [
    "arr=np.array([1,2,3,4,5,6,7,8,9,10,11,12])\n",
    "newarr=arr.reshape(4,3)\n",
    "print(newarr)"
   ]
  },
  {
   "cell_type": "code",
   "execution_count": 40,
   "id": "9f673f6d-fb30-46b9-9727-e911b6710165",
   "metadata": {},
   "outputs": [
    {
     "name": "stdout",
     "output_type": "stream",
     "text": [
      "1\n",
      "2\n",
      "3\n",
      "4\n",
      "5\n",
      "6\n",
      "7\n",
      "8\n",
      "9\n",
      "10\n",
      "11\n",
      "12\n"
     ]
    }
   ],
   "source": [
    "for i in arr:\n",
    "    print(i)"
   ]
  },
  {
   "cell_type": "code",
   "execution_count": 42,
   "id": "3b142389-ac2d-4218-b08a-73d0f4a8cf38",
   "metadata": {},
   "outputs": [
    {
     "name": "stdout",
     "output_type": "stream",
     "text": [
      "[1 2 3 4 5 6]\n"
     ]
    }
   ],
   "source": [
    "arr1=np.array([1,2,3])\n",
    "arr2=np.array([4,5,6])\n",
    "arr=np.concatenate((arr1,arr2))\n",
    "print(arr)"
   ]
  },
  {
   "cell_type": "code",
   "execution_count": 45,
   "id": "d4041e45-88da-4539-9d51-69aabf42403d",
   "metadata": {},
   "outputs": [
    {
     "name": "stdout",
     "output_type": "stream",
     "text": [
      "[array([1]), array([2]), array([3]), array([4]), array([5]), array([6])]\n"
     ]
    }
   ],
   "source": [
    "#spliting array\n",
    "arr=np.array([1,2,3,4,5,6])\n",
    "new_arr=np.array_split(arr,6)   #divides the array elements in rows & if the count is more than the elements then it return values null \n",
    "print(new_arr)"
   ]
  },
  {
   "cell_type": "code",
   "execution_count": 46,
   "id": "fd88b030-abec-4144-bfe3-cc8932803166",
   "metadata": {},
   "outputs": [
    {
     "data": {
      "text/plain": [
       "(array([4], dtype=int64),)"
      ]
     },
     "execution_count": 46,
     "metadata": {},
     "output_type": "execute_result"
    }
   ],
   "source": [
    "#searching for an index of element\n",
    "x=np.where(arr==5)\n",
    "x"
   ]
  },
  {
   "cell_type": "code",
   "execution_count": 47,
   "id": "9a9878f7-db26-43a2-8799-30d12a9676d9",
   "metadata": {},
   "outputs": [
    {
     "name": "stdout",
     "output_type": "stream",
     "text": [
      "[1 2 3 6 7 9]\n"
     ]
    }
   ],
   "source": [
    "#sorting array\n",
    "abc=np.array([3,7,1,9,2,6])\n",
    "print(np.sort(abc))"
   ]
  },
  {
   "cell_type": "code",
   "execution_count": 48,
   "id": "ce1b14cd-5427-465f-989d-149adbe1e8d2",
   "metadata": {},
   "outputs": [
    {
     "name": "stdout",
     "output_type": "stream",
     "text": [
      "[1 3]\n"
     ]
    }
   ],
   "source": [
    "#filtering array\n",
    "arr=np.array([1,2,3,4])\n",
    "x=[True,False,True,False]\n",
    "new_arr=arr[x]\n",
    "print(new_arr)"
   ]
  },
  {
   "cell_type": "code",
   "execution_count": 50,
   "id": "3d24324d-613b-4cc1-b518-a7e22300a532",
   "metadata": {},
   "outputs": [
    {
     "name": "stdout",
     "output_type": "stream",
     "text": [
      "[False, False, True, True]\n",
      "[30 45]\n"
     ]
    }
   ],
   "source": [
    "arr=np.array([26,11,30,45])\n",
    "filter_arr=[]\n",
    "for element in arr:\n",
    "    if element>28:\n",
    "        filter_arr.append(True)\n",
    "    else:\n",
    "        filter_arr.append(False)\n",
    "new_arr=arr[filter_arr]\n",
    "print(filter_arr)\n",
    "print(new_arr)"
   ]
  },
  {
   "cell_type": "code",
   "execution_count": 52,
   "id": "e22b006f-2688-4e98-8e02-077cb11daf37",
   "metadata": {},
   "outputs": [],
   "source": [
    "#conversing the datetype\n",
    "arr=np.array([1,2,3,4,5,6])\n",
    "#print(np.astype(str))"
   ]
  },
  {
   "cell_type": "code",
   "execution_count": 53,
   "id": "2ef35965-6c3c-45ee-9069-35d5d22b94d2",
   "metadata": {},
   "outputs": [
    {
     "name": "stdout",
     "output_type": "stream",
     "text": [
      "[1 2 3 4 5 6]\n",
      "[1 2 3 4 5 6 7]\n"
     ]
    }
   ],
   "source": [
    "#adding and removing elements\n",
    "arr=np.array([1,2,3,4,5,6])\n",
    "print(arr)\n",
    "print(np.append(arr,7))"
   ]
  },
  {
   "cell_type": "code",
   "execution_count": 54,
   "id": "eb31e739-1f5c-4602-a160-f4bded6388ca",
   "metadata": {},
   "outputs": [
    {
     "name": "stdout",
     "output_type": "stream",
     "text": [
      "[1 2 3 8 4 5 6]\n"
     ]
    }
   ],
   "source": [
    "#inserting\n",
    "print(np.insert(arr,3,8))"
   ]
  },
  {
   "cell_type": "code",
   "execution_count": 55,
   "id": "9ae8dade-f403-4295-b66d-5d9926d6dd84",
   "metadata": {},
   "outputs": [
    {
     "name": "stdout",
     "output_type": "stream",
     "text": [
      "[1 3 4 5 6]\n"
     ]
    }
   ],
   "source": [
    "#deleting elemnts\n",
    "print(np.delete(arr,[1]))"
   ]
  },
  {
   "cell_type": "code",
   "execution_count": 9,
   "id": "331322f4-ce6b-464d-8571-611c8957c18f",
   "metadata": {},
   "outputs": [
    {
     "name": "stdout",
     "output_type": "stream",
     "text": [
      "Array :  [10 20 30 40 50]\n",
      "Sum of array :  150\n",
      "min value :  10\n",
      "max value :  50\n",
      "cumsum :  [ 10  30  60 100 150]\n"
     ]
    }
   ],
   "source": [
    "#Aggregate function\n",
    "arr=np.array([10,20,30,40,50])\n",
    "print(\"Array : \",arr)\n",
    "\n",
    "#sum\n",
    "print(\"Sum of array : \",np.sum(arr))\n",
    "\n",
    "#minimum\n",
    "print(\"min value : \",np.min(arr))\n",
    "\n",
    "#maximum\n",
    "print(\"max value : \",np.max(arr))\n",
    "\n",
    "#cumulative sum\n",
    "print(\"cumsum : \",np.cumsum(arr))"
   ]
  },
  {
   "cell_type": "code",
   "execution_count": 6,
   "id": "8105f42a-3ee7-4742-8f13-6ef86e708233",
   "metadata": {},
   "outputs": [
    {
     "name": "stdout",
     "output_type": "stream",
     "text": [
      "mean :  283.3333333333333\n",
      "median :  250.0\n",
      "mode :  200\n",
      "Standard Deviation :  134.3709624716425\n"
     ]
    }
   ],
   "source": [
    "import statistics as stats\n",
    "food_prices=[100,200,400,500,300,200]\n",
    "a=np.array(food_prices)\n",
    "\n",
    "#mean\n",
    "print(\"mean : \",np.mean(a))\n",
    "\n",
    "#median\n",
    "print(\"median : \",np.median(a))\n",
    "\n",
    "#mode\n",
    "print(\"mode : \",stats.mode(a))\n",
    "\n",
    "#SD\n",
    "print(\"Standard Deviation : \",np.std(a))"
   ]
  },
  {
   "cell_type": "code",
   "execution_count": null,
   "id": "07ebcd19-7190-4c03-8d0e-8f5453eb4418",
   "metadata": {},
   "outputs": [],
   "source": []
  }
 ],
 "metadata": {
  "kernelspec": {
   "display_name": "Python 3 (ipykernel)",
   "language": "python",
   "name": "python3"
  },
  "language_info": {
   "codemirror_mode": {
    "name": "ipython",
    "version": 3
   },
   "file_extension": ".py",
   "mimetype": "text/x-python",
   "name": "python",
   "nbconvert_exporter": "python",
   "pygments_lexer": "ipython3",
   "version": "3.12.7"
  }
 },
 "nbformat": 4,
 "nbformat_minor": 5
}
