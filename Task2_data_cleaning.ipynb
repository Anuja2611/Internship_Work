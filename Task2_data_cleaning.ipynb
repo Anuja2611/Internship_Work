{
 "cells": [
  {
   "cell_type": "code",
   "execution_count": 17,
   "id": "c4bf19b4-3e6b-4f63-bfba-3ae4838a5470",
   "metadata": {},
   "outputs": [],
   "source": [
    "import pandas as pd\n",
    "import numpy as np\n",
    "import matplotlib.pyplot as plt\n",
    "import seaborn as sns"
   ]
  },
  {
   "cell_type": "code",
   "execution_count": 33,
   "id": "fdd35d89-c9c4-44d4-9235-69ca79addae1",
   "metadata": {},
   "outputs": [
    {
     "data": {
      "text/html": [
       "<div>\n",
       "<style scoped>\n",
       "    .dataframe tbody tr th:only-of-type {\n",
       "        vertical-align: middle;\n",
       "    }\n",
       "\n",
       "    .dataframe tbody tr th {\n",
       "        vertical-align: top;\n",
       "    }\n",
       "\n",
       "    .dataframe thead th {\n",
       "        text-align: right;\n",
       "    }\n",
       "</style>\n",
       "<table border=\"1\" class=\"dataframe\">\n",
       "  <thead>\n",
       "    <tr style=\"text-align: right;\">\n",
       "      <th></th>\n",
       "      <th>CustomerID</th>\n",
       "      <th>Product</th>\n",
       "      <th>Price</th>\n",
       "      <th>Quantity</th>\n",
       "      <th>City</th>\n",
       "      <th>PurchaseDate</th>\n",
       "    </tr>\n",
       "  </thead>\n",
       "  <tbody>\n",
       "    <tr>\n",
       "      <th>0</th>\n",
       "      <td>1052</td>\n",
       "      <td>Desktop</td>\n",
       "      <td>NaN</td>\n",
       "      <td>4.0</td>\n",
       "      <td>Bangalore</td>\n",
       "      <td>2021-06-30</td>\n",
       "    </tr>\n",
       "    <tr>\n",
       "      <th>1</th>\n",
       "      <td>1041</td>\n",
       "      <td>Desktop</td>\n",
       "      <td>NaN</td>\n",
       "      <td>3.0</td>\n",
       "      <td>Delhi</td>\n",
       "      <td>2023-01-21</td>\n",
       "    </tr>\n",
       "    <tr>\n",
       "      <th>2</th>\n",
       "      <td>1057</td>\n",
       "      <td>Smartphone</td>\n",
       "      <td>forty-five thousand</td>\n",
       "      <td>2.0</td>\n",
       "      <td>Bangalore</td>\n",
       "      <td>2023-04-06</td>\n",
       "    </tr>\n",
       "    <tr>\n",
       "      <th>3</th>\n",
       "      <td>1038</td>\n",
       "      <td>Tablet</td>\n",
       "      <td>45000.0</td>\n",
       "      <td>1.0</td>\n",
       "      <td>Chennai</td>\n",
       "      <td>2023-07-05</td>\n",
       "    </tr>\n",
       "    <tr>\n",
       "      <th>4</th>\n",
       "      <td>1013</td>\n",
       "      <td>Smartphone</td>\n",
       "      <td>45000.0</td>\n",
       "      <td>NaN</td>\n",
       "      <td>Mumbai</td>\n",
       "      <td>2022-04-11</td>\n",
       "    </tr>\n",
       "    <tr>\n",
       "      <th>...</th>\n",
       "      <td>...</td>\n",
       "      <td>...</td>\n",
       "      <td>...</td>\n",
       "      <td>...</td>\n",
       "      <td>...</td>\n",
       "      <td>...</td>\n",
       "    </tr>\n",
       "    <tr>\n",
       "      <th>120</th>\n",
       "      <td>1074</td>\n",
       "      <td>Laptop</td>\n",
       "      <td>45000.0</td>\n",
       "      <td>NaN</td>\n",
       "      <td>Bangalore</td>\n",
       "      <td>2021-08-14</td>\n",
       "    </tr>\n",
       "    <tr>\n",
       "      <th>121</th>\n",
       "      <td>1017</td>\n",
       "      <td>Desktop</td>\n",
       "      <td>45000.0</td>\n",
       "      <td>NaN</td>\n",
       "      <td>Pune</td>\n",
       "      <td>2022-08-09</td>\n",
       "    </tr>\n",
       "    <tr>\n",
       "      <th>122</th>\n",
       "      <td>1075</td>\n",
       "      <td>Desktop</td>\n",
       "      <td>30000.0</td>\n",
       "      <td>1.0</td>\n",
       "      <td>Pune</td>\n",
       "      <td>2021-09-28</td>\n",
       "    </tr>\n",
       "    <tr>\n",
       "      <th>123</th>\n",
       "      <td>1008</td>\n",
       "      <td>Laptop</td>\n",
       "      <td>60000.0</td>\n",
       "      <td>1.0</td>\n",
       "      <td>Chennai</td>\n",
       "      <td>2021-09-13</td>\n",
       "    </tr>\n",
       "    <tr>\n",
       "      <th>124</th>\n",
       "      <td>1073</td>\n",
       "      <td>Laptop</td>\n",
       "      <td>15000.0</td>\n",
       "      <td>NaN</td>\n",
       "      <td>Delhi</td>\n",
       "      <td>2021-01-01</td>\n",
       "    </tr>\n",
       "  </tbody>\n",
       "</table>\n",
       "<p>125 rows × 6 columns</p>\n",
       "</div>"
      ],
      "text/plain": [
       "     CustomerID     Product                Price Quantity       City  \\\n",
       "0          1052     Desktop                  NaN      4.0  Bangalore   \n",
       "1          1041     Desktop                  NaN      3.0      Delhi   \n",
       "2          1057  Smartphone  forty-five thousand      2.0  Bangalore   \n",
       "3          1038      Tablet              45000.0      1.0    Chennai   \n",
       "4          1013  Smartphone              45000.0      NaN     Mumbai   \n",
       "..          ...         ...                  ...      ...        ...   \n",
       "120        1074      Laptop              45000.0      NaN  Bangalore   \n",
       "121        1017     Desktop              45000.0      NaN       Pune   \n",
       "122        1075     Desktop              30000.0      1.0       Pune   \n",
       "123        1008      Laptop              60000.0      1.0    Chennai   \n",
       "124        1073      Laptop              15000.0      NaN      Delhi   \n",
       "\n",
       "    PurchaseDate  \n",
       "0     2021-06-30  \n",
       "1     2023-01-21  \n",
       "2     2023-04-06  \n",
       "3     2023-07-05  \n",
       "4     2022-04-11  \n",
       "..           ...  \n",
       "120   2021-08-14  \n",
       "121   2022-08-09  \n",
       "122   2021-09-28  \n",
       "123   2021-09-13  \n",
       "124   2021-01-01  \n",
       "\n",
       "[125 rows x 6 columns]"
      ]
     },
     "execution_count": 33,
     "metadata": {},
     "output_type": "execute_result"
    }
   ],
   "source": [
    "ds=pd.read_csv(\"product_data.csv\")\n",
    "ds"
   ]
  },
  {
   "cell_type": "code",
   "execution_count": 3,
   "id": "daf3a8f8-1e91-4ebc-87f9-06767dd507a3",
   "metadata": {},
   "outputs": [
    {
     "name": "stdout",
     "output_type": "stream",
     "text": [
      "<class 'pandas.core.frame.DataFrame'>\n",
      "RangeIndex: 125 entries, 0 to 124\n",
      "Data columns (total 6 columns):\n",
      " #   Column        Non-Null Count  Dtype \n",
      "---  ------        --------------  ----- \n",
      " 0   CustomerID    125 non-null    int64 \n",
      " 1   Product       125 non-null    object\n",
      " 2   Price         103 non-null    object\n",
      " 3   Quantity      98 non-null     object\n",
      " 4   City          125 non-null    object\n",
      " 5   PurchaseDate  125 non-null    object\n",
      "dtypes: int64(1), object(5)\n",
      "memory usage: 6.0+ KB\n"
     ]
    }
   ],
   "source": [
    "#checkinng the details of data\n",
    "ds.info()"
   ]
  },
  {
   "cell_type": "code",
   "execution_count": 8,
   "id": "0b5d4448-fa65-428c-b748-ce625ebfd6fa",
   "metadata": {},
   "outputs": [
    {
     "data": {
      "text/plain": [
       "5"
      ]
     },
     "execution_count": 8,
     "metadata": {},
     "output_type": "execute_result"
    }
   ],
   "source": [
    "#checking for duplicates\n",
    "ds.duplicated().sum()"
   ]
  },
  {
   "cell_type": "code",
   "execution_count": 11,
   "id": "8b797dfb-0db6-4241-9b20-c2ee05c76115",
   "metadata": {},
   "outputs": [],
   "source": [
    "#removing duplicate values\n",
    "ds.drop_duplicates(inplace=True)"
   ]
  },
  {
   "cell_type": "code",
   "execution_count": 12,
   "id": "9569696d-f8ea-4544-ae17-98a508fa0864",
   "metadata": {},
   "outputs": [
    {
     "data": {
      "text/plain": [
       "0"
      ]
     },
     "execution_count": 12,
     "metadata": {},
     "output_type": "execute_result"
    }
   ],
   "source": [
    "ds.duplicated().sum()"
   ]
  },
  {
   "cell_type": "code",
   "execution_count": 14,
   "id": "e51dde32-100c-46a3-bf5f-e284cf3a15c9",
   "metadata": {},
   "outputs": [],
   "source": [
    "#the price should be in numeric format & there are some missing values\n",
    "ds[\"Price\"]=pd.to_numeric(ds[\"Price\"],errors=\"coerce\")"
   ]
  },
  {
   "cell_type": "code",
   "execution_count": 15,
   "id": "2011b29d-c350-449d-9c73-d0c2059f5544",
   "metadata": {},
   "outputs": [
    {
     "name": "stdout",
     "output_type": "stream",
     "text": [
      "<class 'pandas.core.frame.DataFrame'>\n",
      "Index: 120 entries, 0 to 119\n",
      "Data columns (total 6 columns):\n",
      " #   Column        Non-Null Count  Dtype  \n",
      "---  ------        --------------  -----  \n",
      " 0   CustomerID    120 non-null    int64  \n",
      " 1   Product       120 non-null    object \n",
      " 2   Price         97 non-null     float64\n",
      " 3   Quantity      96 non-null     object \n",
      " 4   City          120 non-null    object \n",
      " 5   PurchaseDate  120 non-null    object \n",
      "dtypes: float64(1), int64(1), object(4)\n",
      "memory usage: 6.6+ KB\n"
     ]
    }
   ],
   "source": [
    "#checking if the column is transformed or not\n",
    "ds.info()"
   ]
  },
  {
   "cell_type": "code",
   "execution_count": 20,
   "id": "84c850ca-db03-41ea-af90-8aff7c7f7f79",
   "metadata": {},
   "outputs": [
    {
     "name": "stderr",
     "output_type": "stream",
     "text": [
      "C:\\Users\\swaro\\AppData\\Local\\Temp\\ipykernel_1084\\1752608720.py:4: FutureWarning: A value is trying to be set on a copy of a DataFrame or Series through chained assignment using an inplace method.\n",
      "The behavior will change in pandas 3.0. This inplace method will never work because the intermediate object on which we are setting values always behaves as a copy.\n",
      "\n",
      "For example, when doing 'df[col].method(value, inplace=True)', try using 'df.method({col: value}, inplace=True)' or df[col] = df[col].method(value) instead, to perform the operation inplace on the original object.\n",
      "\n",
      "\n",
      "  ds[\"Price\"].fillna(y,inplace=True)\n"
     ]
    }
   ],
   "source": [
    "#filling the empty cells of price column\n",
    "y=ds[\"Price\"].median()\n",
    "y\n",
    "ds[\"Price\"].fillna(y,inplace=True)"
   ]
  },
  {
   "cell_type": "code",
   "execution_count": 21,
   "id": "000f40cb-04cc-4a8f-938c-3ad44e2f7a77",
   "metadata": {},
   "outputs": [
    {
     "name": "stdout",
     "output_type": "stream",
     "text": [
      "<class 'pandas.core.frame.DataFrame'>\n",
      "Index: 120 entries, 0 to 119\n",
      "Data columns (total 6 columns):\n",
      " #   Column        Non-Null Count  Dtype  \n",
      "---  ------        --------------  -----  \n",
      " 0   CustomerID    120 non-null    int64  \n",
      " 1   Product       120 non-null    object \n",
      " 2   Price         120 non-null    float64\n",
      " 3   Quantity      96 non-null     object \n",
      " 4   City          120 non-null    object \n",
      " 5   PurchaseDate  120 non-null    object \n",
      "dtypes: float64(1), int64(1), object(4)\n",
      "memory usage: 6.6+ KB\n"
     ]
    }
   ],
   "source": [
    "ds.info()"
   ]
  },
  {
   "cell_type": "code",
   "execution_count": 24,
   "id": "d50a2fe5-f50b-4361-8772-3ed25b8e5131",
   "metadata": {},
   "outputs": [],
   "source": [
    "#the quantity column is in object format where it should be in the numeric format\n",
    "ds[\"Quantity\"]=pd.to_numeric(ds[\"Quantity\"],errors=\"coerce\")"
   ]
  },
  {
   "cell_type": "code",
   "execution_count": 25,
   "id": "26a9b7b7-a1d6-42dd-b0a7-3b6d4c1dea00",
   "metadata": {},
   "outputs": [
    {
     "name": "stdout",
     "output_type": "stream",
     "text": [
      "<class 'pandas.core.frame.DataFrame'>\n",
      "Index: 120 entries, 0 to 119\n",
      "Data columns (total 6 columns):\n",
      " #   Column        Non-Null Count  Dtype  \n",
      "---  ------        --------------  -----  \n",
      " 0   CustomerID    120 non-null    int64  \n",
      " 1   Product       120 non-null    object \n",
      " 2   Price         120 non-null    float64\n",
      " 3   Quantity      95 non-null     float64\n",
      " 4   City          120 non-null    object \n",
      " 5   PurchaseDate  120 non-null    object \n",
      "dtypes: float64(2), int64(1), object(3)\n",
      "memory usage: 6.6+ KB\n"
     ]
    }
   ],
   "source": [
    "#checking if the column is transformed or not\n",
    "ds.info()"
   ]
  },
  {
   "cell_type": "code",
   "execution_count": 27,
   "id": "18df1863-e444-4c6f-9cf8-737ad29e4bee",
   "metadata": {},
   "outputs": [
    {
     "data": {
      "text/plain": [
       "3.0"
      ]
     },
     "execution_count": 27,
     "metadata": {},
     "output_type": "execute_result"
    }
   ],
   "source": [
    "#there are missing values in in Quantity column\n",
    "#filling the missing values\n",
    "z=ds[\"Quantity\"].median()\n",
    "z"
   ]
  },
  {
   "cell_type": "code",
   "execution_count": 28,
   "id": "0e0f231c-24f1-4d15-820a-603ff83331f4",
   "metadata": {},
   "outputs": [
    {
     "name": "stderr",
     "output_type": "stream",
     "text": [
      "C:\\Users\\swaro\\AppData\\Local\\Temp\\ipykernel_1084\\2209665285.py:1: FutureWarning: A value is trying to be set on a copy of a DataFrame or Series through chained assignment using an inplace method.\n",
      "The behavior will change in pandas 3.0. This inplace method will never work because the intermediate object on which we are setting values always behaves as a copy.\n",
      "\n",
      "For example, when doing 'df[col].method(value, inplace=True)', try using 'df.method({col: value}, inplace=True)' or df[col] = df[col].method(value) instead, to perform the operation inplace on the original object.\n",
      "\n",
      "\n",
      "  ds[\"Quantity\"].fillna(z , inplace=True)\n"
     ]
    }
   ],
   "source": [
    "ds[\"Quantity\"].fillna(z , inplace=True)"
   ]
  },
  {
   "cell_type": "code",
   "execution_count": 29,
   "id": "e13be08f-21af-4c66-811c-a479733cd2e3",
   "metadata": {},
   "outputs": [
    {
     "name": "stdout",
     "output_type": "stream",
     "text": [
      "<class 'pandas.core.frame.DataFrame'>\n",
      "Index: 120 entries, 0 to 119\n",
      "Data columns (total 6 columns):\n",
      " #   Column        Non-Null Count  Dtype  \n",
      "---  ------        --------------  -----  \n",
      " 0   CustomerID    120 non-null    int64  \n",
      " 1   Product       120 non-null    object \n",
      " 2   Price         120 non-null    float64\n",
      " 3   Quantity      120 non-null    float64\n",
      " 4   City          120 non-null    object \n",
      " 5   PurchaseDate  120 non-null    object \n",
      "dtypes: float64(2), int64(1), object(3)\n",
      "memory usage: 6.6+ KB\n"
     ]
    }
   ],
   "source": [
    "#checking if the cells are filled or not\n",
    "ds.info()"
   ]
  },
  {
   "cell_type": "code",
   "execution_count": 30,
   "id": "50aee627-698e-4c10-8e13-8991c866a3d4",
   "metadata": {},
   "outputs": [],
   "source": [
    "#purchasedate column is not in date format\n",
    "#converting it in the date format\n",
    "ds[\"PurchaseDate\"]=pd.to_datetime(ds[\"PurchaseDate\"])"
   ]
  },
  {
   "cell_type": "code",
   "execution_count": 31,
   "id": "2ad1c8f8-88e7-436b-a9b2-1469cadecffd",
   "metadata": {},
   "outputs": [
    {
     "name": "stdout",
     "output_type": "stream",
     "text": [
      "<class 'pandas.core.frame.DataFrame'>\n",
      "Index: 120 entries, 0 to 119\n",
      "Data columns (total 6 columns):\n",
      " #   Column        Non-Null Count  Dtype         \n",
      "---  ------        --------------  -----         \n",
      " 0   CustomerID    120 non-null    int64         \n",
      " 1   Product       120 non-null    object        \n",
      " 2   Price         120 non-null    float64       \n",
      " 3   Quantity      120 non-null    float64       \n",
      " 4   City          120 non-null    object        \n",
      " 5   PurchaseDate  120 non-null    datetime64[ns]\n",
      "dtypes: datetime64[ns](1), float64(2), int64(1), object(2)\n",
      "memory usage: 6.6+ KB\n"
     ]
    }
   ],
   "source": [
    "ds.info()"
   ]
  },
  {
   "cell_type": "code",
   "execution_count": 32,
   "id": "1dc06b18-c709-47bf-b00f-20c47c130288",
   "metadata": {},
   "outputs": [
    {
     "data": {
      "text/html": [
       "<div>\n",
       "<style scoped>\n",
       "    .dataframe tbody tr th:only-of-type {\n",
       "        vertical-align: middle;\n",
       "    }\n",
       "\n",
       "    .dataframe tbody tr th {\n",
       "        vertical-align: top;\n",
       "    }\n",
       "\n",
       "    .dataframe thead th {\n",
       "        text-align: right;\n",
       "    }\n",
       "</style>\n",
       "<table border=\"1\" class=\"dataframe\">\n",
       "  <thead>\n",
       "    <tr style=\"text-align: right;\">\n",
       "      <th></th>\n",
       "      <th>CustomerID</th>\n",
       "      <th>Product</th>\n",
       "      <th>Price</th>\n",
       "      <th>Quantity</th>\n",
       "      <th>City</th>\n",
       "      <th>PurchaseDate</th>\n",
       "    </tr>\n",
       "  </thead>\n",
       "  <tbody>\n",
       "    <tr>\n",
       "      <th>0</th>\n",
       "      <td>1052</td>\n",
       "      <td>Desktop</td>\n",
       "      <td>30000.0</td>\n",
       "      <td>4.0</td>\n",
       "      <td>Bangalore</td>\n",
       "      <td>2021-06-30</td>\n",
       "    </tr>\n",
       "    <tr>\n",
       "      <th>1</th>\n",
       "      <td>1041</td>\n",
       "      <td>Desktop</td>\n",
       "      <td>30000.0</td>\n",
       "      <td>3.0</td>\n",
       "      <td>Delhi</td>\n",
       "      <td>2023-01-21</td>\n",
       "    </tr>\n",
       "    <tr>\n",
       "      <th>2</th>\n",
       "      <td>1057</td>\n",
       "      <td>Smartphone</td>\n",
       "      <td>30000.0</td>\n",
       "      <td>2.0</td>\n",
       "      <td>Bangalore</td>\n",
       "      <td>2023-04-06</td>\n",
       "    </tr>\n",
       "    <tr>\n",
       "      <th>3</th>\n",
       "      <td>1038</td>\n",
       "      <td>Tablet</td>\n",
       "      <td>45000.0</td>\n",
       "      <td>1.0</td>\n",
       "      <td>Chennai</td>\n",
       "      <td>2023-07-05</td>\n",
       "    </tr>\n",
       "    <tr>\n",
       "      <th>4</th>\n",
       "      <td>1013</td>\n",
       "      <td>Smartphone</td>\n",
       "      <td>45000.0</td>\n",
       "      <td>3.0</td>\n",
       "      <td>Mumbai</td>\n",
       "      <td>2022-04-11</td>\n",
       "    </tr>\n",
       "    <tr>\n",
       "      <th>...</th>\n",
       "      <td>...</td>\n",
       "      <td>...</td>\n",
       "      <td>...</td>\n",
       "      <td>...</td>\n",
       "      <td>...</td>\n",
       "      <td>...</td>\n",
       "    </tr>\n",
       "    <tr>\n",
       "      <th>115</th>\n",
       "      <td>1059</td>\n",
       "      <td>Desktop</td>\n",
       "      <td>30000.0</td>\n",
       "      <td>3.0</td>\n",
       "      <td>Bangalore</td>\n",
       "      <td>2023-07-05</td>\n",
       "    </tr>\n",
       "    <tr>\n",
       "      <th>116</th>\n",
       "      <td>1049</td>\n",
       "      <td>Smartphone</td>\n",
       "      <td>30000.0</td>\n",
       "      <td>2.0</td>\n",
       "      <td>Bangalore</td>\n",
       "      <td>2022-11-07</td>\n",
       "    </tr>\n",
       "    <tr>\n",
       "      <th>117</th>\n",
       "      <td>1027</td>\n",
       "      <td>Smartphone</td>\n",
       "      <td>60000.0</td>\n",
       "      <td>4.0</td>\n",
       "      <td>Chennai</td>\n",
       "      <td>2023-08-04</td>\n",
       "    </tr>\n",
       "    <tr>\n",
       "      <th>118</th>\n",
       "      <td>1091</td>\n",
       "      <td>Smartphone</td>\n",
       "      <td>30000.0</td>\n",
       "      <td>3.0</td>\n",
       "      <td>Mumbai</td>\n",
       "      <td>2021-01-16</td>\n",
       "    </tr>\n",
       "    <tr>\n",
       "      <th>119</th>\n",
       "      <td>1040</td>\n",
       "      <td>Smartphone</td>\n",
       "      <td>15000.0</td>\n",
       "      <td>1.0</td>\n",
       "      <td>Mumbai</td>\n",
       "      <td>2023-03-07</td>\n",
       "    </tr>\n",
       "  </tbody>\n",
       "</table>\n",
       "<p>120 rows × 6 columns</p>\n",
       "</div>"
      ],
      "text/plain": [
       "     CustomerID     Product    Price  Quantity       City PurchaseDate\n",
       "0          1052     Desktop  30000.0       4.0  Bangalore   2021-06-30\n",
       "1          1041     Desktop  30000.0       3.0      Delhi   2023-01-21\n",
       "2          1057  Smartphone  30000.0       2.0  Bangalore   2023-04-06\n",
       "3          1038      Tablet  45000.0       1.0    Chennai   2023-07-05\n",
       "4          1013  Smartphone  45000.0       3.0     Mumbai   2022-04-11\n",
       "..          ...         ...      ...       ...        ...          ...\n",
       "115        1059     Desktop  30000.0       3.0  Bangalore   2023-07-05\n",
       "116        1049  Smartphone  30000.0       2.0  Bangalore   2022-11-07\n",
       "117        1027  Smartphone  60000.0       4.0    Chennai   2023-08-04\n",
       "118        1091  Smartphone  30000.0       3.0     Mumbai   2021-01-16\n",
       "119        1040  Smartphone  15000.0       1.0     Mumbai   2023-03-07\n",
       "\n",
       "[120 rows x 6 columns]"
      ]
     },
     "execution_count": 32,
     "metadata": {},
     "output_type": "execute_result"
    }
   ],
   "source": [
    "ds"
   ]
  },
  {
   "cell_type": "code",
   "execution_count": 34,
   "id": "18389481-a0e0-46c9-9fda-d82a69f479c9",
   "metadata": {},
   "outputs": [],
   "source": [
    "ds.to_csv(\"product_dataset_cleaned.csv\")"
   ]
  },
  {
   "cell_type": "code",
   "execution_count": null,
   "id": "5a9af2a6-149c-47f1-b3ef-f4b8f22fa559",
   "metadata": {},
   "outputs": [],
   "source": []
  }
 ],
 "metadata": {
  "kernelspec": {
   "display_name": "Python 3 (ipykernel)",
   "language": "python",
   "name": "python3"
  },
  "language_info": {
   "codemirror_mode": {
    "name": "ipython",
    "version": 3
   },
   "file_extension": ".py",
   "mimetype": "text/x-python",
   "name": "python",
   "nbconvert_exporter": "python",
   "pygments_lexer": "ipython3",
   "version": "3.12.7"
  }
 },
 "nbformat": 4,
 "nbformat_minor": 5
}
