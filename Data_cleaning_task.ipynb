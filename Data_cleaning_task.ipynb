{
 "cells": [
  {
   "cell_type": "code",
   "execution_count": 1,
   "id": "3b244c89-fd8a-4c11-956d-055ace3d2644",
   "metadata": {},
   "outputs": [
    {
     "data": {
      "text/html": [
       "<div>\n",
       "<style scoped>\n",
       "    .dataframe tbody tr th:only-of-type {\n",
       "        vertical-align: middle;\n",
       "    }\n",
       "\n",
       "    .dataframe tbody tr th {\n",
       "        vertical-align: top;\n",
       "    }\n",
       "\n",
       "    .dataframe thead th {\n",
       "        text-align: right;\n",
       "    }\n",
       "</style>\n",
       "<table border=\"1\" class=\"dataframe\">\n",
       "  <thead>\n",
       "    <tr style=\"text-align: right;\">\n",
       "      <th></th>\n",
       "      <th>Name</th>\n",
       "      <th>Age</th>\n",
       "      <th>Gender</th>\n",
       "      <th>Email</th>\n",
       "      <th>Join_Date</th>\n",
       "      <th>Salary</th>\n",
       "      <th>Department</th>\n",
       "    </tr>\n",
       "  </thead>\n",
       "  <tbody>\n",
       "    <tr>\n",
       "      <th>0</th>\n",
       "      <td>Alice</td>\n",
       "      <td>NaN</td>\n",
       "      <td>NaN</td>\n",
       "      <td>user0@example.com</td>\n",
       "      <td>2021-05-21</td>\n",
       "      <td>NaN</td>\n",
       "      <td>Admin</td>\n",
       "    </tr>\n",
       "    <tr>\n",
       "      <th>1</th>\n",
       "      <td>Bob</td>\n",
       "      <td>40</td>\n",
       "      <td>M</td>\n",
       "      <td>user1@example.com</td>\n",
       "      <td>NaN</td>\n",
       "      <td>50000</td>\n",
       "      <td>Engineering</td>\n",
       "    </tr>\n",
       "    <tr>\n",
       "      <th>2</th>\n",
       "      <td>Charlie</td>\n",
       "      <td>unknown</td>\n",
       "      <td>Male</td>\n",
       "      <td>user2@example.com</td>\n",
       "      <td>2020/01/01</td>\n",
       "      <td>50000</td>\n",
       "      <td>HR</td>\n",
       "    </tr>\n",
       "    <tr>\n",
       "      <th>3</th>\n",
       "      <td>David</td>\n",
       "      <td>NaN</td>\n",
       "      <td>NaN</td>\n",
       "      <td>user3@example.com</td>\n",
       "      <td>2021-05-21</td>\n",
       "      <td>70000</td>\n",
       "      <td>Admin</td>\n",
       "    </tr>\n",
       "    <tr>\n",
       "      <th>4</th>\n",
       "      <td>Eva</td>\n",
       "      <td>35</td>\n",
       "      <td>Other</td>\n",
       "      <td>user4@example.com</td>\n",
       "      <td>July 4, 2020</td>\n",
       "      <td>70000</td>\n",
       "      <td>Engineering</td>\n",
       "    </tr>\n",
       "    <tr>\n",
       "      <th>...</th>\n",
       "      <td>...</td>\n",
       "      <td>...</td>\n",
       "      <td>...</td>\n",
       "      <td>...</td>\n",
       "      <td>...</td>\n",
       "      <td>...</td>\n",
       "      <td>...</td>\n",
       "    </tr>\n",
       "    <tr>\n",
       "      <th>100</th>\n",
       "      <td>Alice</td>\n",
       "      <td>NaN</td>\n",
       "      <td>NaN</td>\n",
       "      <td>user0@example.com</td>\n",
       "      <td>2021-05-21</td>\n",
       "      <td>NaN</td>\n",
       "      <td>Admin</td>\n",
       "    </tr>\n",
       "    <tr>\n",
       "      <th>101</th>\n",
       "      <td>Bob</td>\n",
       "      <td>40</td>\n",
       "      <td>M</td>\n",
       "      <td>user1@example.com</td>\n",
       "      <td>NaN</td>\n",
       "      <td>50000</td>\n",
       "      <td>Engineering</td>\n",
       "    </tr>\n",
       "    <tr>\n",
       "      <th>102</th>\n",
       "      <td>Charlie</td>\n",
       "      <td>unknown</td>\n",
       "      <td>Male</td>\n",
       "      <td>user2@example.com</td>\n",
       "      <td>2020/01/01</td>\n",
       "      <td>50000</td>\n",
       "      <td>HR</td>\n",
       "    </tr>\n",
       "    <tr>\n",
       "      <th>103</th>\n",
       "      <td>David</td>\n",
       "      <td>NaN</td>\n",
       "      <td>NaN</td>\n",
       "      <td>user3@example.com</td>\n",
       "      <td>2021-05-21</td>\n",
       "      <td>70000</td>\n",
       "      <td>Admin</td>\n",
       "    </tr>\n",
       "    <tr>\n",
       "      <th>104</th>\n",
       "      <td>Eva</td>\n",
       "      <td>35</td>\n",
       "      <td>Other</td>\n",
       "      <td>user4@example.com</td>\n",
       "      <td>July 4, 2020</td>\n",
       "      <td>70000</td>\n",
       "      <td>Engineering</td>\n",
       "    </tr>\n",
       "  </tbody>\n",
       "</table>\n",
       "<p>105 rows × 7 columns</p>\n",
       "</div>"
      ],
      "text/plain": [
       "        Name      Age Gender              Email     Join_Date Salary  \\\n",
       "0      Alice      NaN    NaN  user0@example.com    2021-05-21    NaN   \n",
       "1        Bob       40      M  user1@example.com           NaN  50000   \n",
       "2    Charlie  unknown   Male  user2@example.com    2020/01/01  50000   \n",
       "3      David      NaN    NaN  user3@example.com    2021-05-21  70000   \n",
       "4        Eva       35  Other  user4@example.com  July 4, 2020  70000   \n",
       "..       ...      ...    ...                ...           ...    ...   \n",
       "100    Alice      NaN    NaN  user0@example.com    2021-05-21    NaN   \n",
       "101      Bob       40      M  user1@example.com           NaN  50000   \n",
       "102  Charlie  unknown   Male  user2@example.com    2020/01/01  50000   \n",
       "103    David      NaN    NaN  user3@example.com    2021-05-21  70000   \n",
       "104      Eva       35  Other  user4@example.com  July 4, 2020  70000   \n",
       "\n",
       "      Department  \n",
       "0          Admin  \n",
       "1    Engineering  \n",
       "2             HR  \n",
       "3          Admin  \n",
       "4    Engineering  \n",
       "..           ...  \n",
       "100        Admin  \n",
       "101  Engineering  \n",
       "102           HR  \n",
       "103        Admin  \n",
       "104  Engineering  \n",
       "\n",
       "[105 rows x 7 columns]"
      ]
     },
     "execution_count": 1,
     "metadata": {},
     "output_type": "execute_result"
    }
   ],
   "source": [
    "import pandas as pd\n",
    "import numpy as np\n",
    "import matplotlib as mlt\n",
    "import seaborn as sns\n",
    "#importing dataset\n",
    "df=pd.read_csv('raw_messy_dataset.csv')\n",
    "#handling empty cells using drop method\n",
    "df"
   ]
  },
  {
   "cell_type": "code",
   "execution_count": 2,
   "id": "62373d2a-32d8-4d28-a54c-2154e9e88f11",
   "metadata": {},
   "outputs": [
    {
     "data": {
      "text/html": [
       "<div>\n",
       "<style scoped>\n",
       "    .dataframe tbody tr th:only-of-type {\n",
       "        vertical-align: middle;\n",
       "    }\n",
       "\n",
       "    .dataframe tbody tr th {\n",
       "        vertical-align: top;\n",
       "    }\n",
       "\n",
       "    .dataframe thead th {\n",
       "        text-align: right;\n",
       "    }\n",
       "</style>\n",
       "<table border=\"1\" class=\"dataframe\">\n",
       "  <thead>\n",
       "    <tr style=\"text-align: right;\">\n",
       "      <th></th>\n",
       "      <th>Name</th>\n",
       "      <th>Age</th>\n",
       "      <th>Gender</th>\n",
       "      <th>Email</th>\n",
       "      <th>Join_Date</th>\n",
       "      <th>Salary</th>\n",
       "      <th>Department</th>\n",
       "    </tr>\n",
       "  </thead>\n",
       "  <tbody>\n",
       "    <tr>\n",
       "      <th>0</th>\n",
       "      <td>Alice</td>\n",
       "      <td>NaN</td>\n",
       "      <td>NaN</td>\n",
       "      <td>user0@example.com</td>\n",
       "      <td>2021-05-21</td>\n",
       "      <td>NaN</td>\n",
       "      <td>Admin</td>\n",
       "    </tr>\n",
       "    <tr>\n",
       "      <th>1</th>\n",
       "      <td>Bob</td>\n",
       "      <td>40</td>\n",
       "      <td>M</td>\n",
       "      <td>user1@example.com</td>\n",
       "      <td>NaN</td>\n",
       "      <td>50000</td>\n",
       "      <td>Engineering</td>\n",
       "    </tr>\n",
       "    <tr>\n",
       "      <th>2</th>\n",
       "      <td>Charlie</td>\n",
       "      <td>unknown</td>\n",
       "      <td>Male</td>\n",
       "      <td>user2@example.com</td>\n",
       "      <td>2020/01/01</td>\n",
       "      <td>50000</td>\n",
       "      <td>HR</td>\n",
       "    </tr>\n",
       "    <tr>\n",
       "      <th>3</th>\n",
       "      <td>David</td>\n",
       "      <td>NaN</td>\n",
       "      <td>NaN</td>\n",
       "      <td>user3@example.com</td>\n",
       "      <td>2021-05-21</td>\n",
       "      <td>70000</td>\n",
       "      <td>Admin</td>\n",
       "    </tr>\n",
       "    <tr>\n",
       "      <th>4</th>\n",
       "      <td>Eva</td>\n",
       "      <td>35</td>\n",
       "      <td>Other</td>\n",
       "      <td>user4@example.com</td>\n",
       "      <td>July 4, 2020</td>\n",
       "      <td>70000</td>\n",
       "      <td>Engineering</td>\n",
       "    </tr>\n",
       "    <tr>\n",
       "      <th>5</th>\n",
       "      <td>Frank</td>\n",
       "      <td>unknown</td>\n",
       "      <td>Other</td>\n",
       "      <td>user5@example.com</td>\n",
       "      <td>NaN</td>\n",
       "      <td>70000</td>\n",
       "      <td>Admin</td>\n",
       "    </tr>\n",
       "    <tr>\n",
       "      <th>6</th>\n",
       "      <td>Grace</td>\n",
       "      <td>unknown</td>\n",
       "      <td>Female</td>\n",
       "      <td>user6@example.com</td>\n",
       "      <td>July 4, 2020</td>\n",
       "      <td>80000</td>\n",
       "      <td>Engineering</td>\n",
       "    </tr>\n",
       "    <tr>\n",
       "      <th>7</th>\n",
       "      <td>Hannah</td>\n",
       "      <td>NaN</td>\n",
       "      <td>Other</td>\n",
       "      <td>user7@example.com</td>\n",
       "      <td>2021-05-21</td>\n",
       "      <td>NaN</td>\n",
       "      <td>HR</td>\n",
       "    </tr>\n",
       "    <tr>\n",
       "      <th>8</th>\n",
       "      <td>Ivy</td>\n",
       "      <td>30</td>\n",
       "      <td>Female</td>\n",
       "      <td>user8@example.com</td>\n",
       "      <td>NaN</td>\n",
       "      <td>50000</td>\n",
       "      <td>Engineering</td>\n",
       "    </tr>\n",
       "    <tr>\n",
       "      <th>9</th>\n",
       "      <td>Jack</td>\n",
       "      <td>35</td>\n",
       "      <td>Male</td>\n",
       "      <td>user9@example.com</td>\n",
       "      <td>2020/01/01</td>\n",
       "      <td>80000</td>\n",
       "      <td>Engineering</td>\n",
       "    </tr>\n",
       "  </tbody>\n",
       "</table>\n",
       "</div>"
      ],
      "text/plain": [
       "      Name      Age  Gender              Email     Join_Date Salary  \\\n",
       "0    Alice      NaN     NaN  user0@example.com    2021-05-21    NaN   \n",
       "1      Bob       40       M  user1@example.com           NaN  50000   \n",
       "2  Charlie  unknown    Male  user2@example.com    2020/01/01  50000   \n",
       "3    David      NaN     NaN  user3@example.com    2021-05-21  70000   \n",
       "4      Eva       35   Other  user4@example.com  July 4, 2020  70000   \n",
       "5    Frank  unknown   Other  user5@example.com           NaN  70000   \n",
       "6    Grace  unknown  Female  user6@example.com  July 4, 2020  80000   \n",
       "7   Hannah      NaN   Other  user7@example.com    2021-05-21    NaN   \n",
       "8      Ivy       30  Female  user8@example.com           NaN  50000   \n",
       "9     Jack       35    Male  user9@example.com    2020/01/01  80000   \n",
       "\n",
       "    Department  \n",
       "0        Admin  \n",
       "1  Engineering  \n",
       "2           HR  \n",
       "3        Admin  \n",
       "4  Engineering  \n",
       "5        Admin  \n",
       "6  Engineering  \n",
       "7           HR  \n",
       "8  Engineering  \n",
       "9  Engineering  "
      ]
     },
     "execution_count": 2,
     "metadata": {},
     "output_type": "execute_result"
    }
   ],
   "source": [
    "df.head(10)"
   ]
  },
  {
   "cell_type": "code",
   "execution_count": 4,
   "id": "0c0a3aec-bf68-4ee8-b3b1-38ee7174fb8e",
   "metadata": {},
   "outputs": [
    {
     "data": {
      "text/html": [
       "<div>\n",
       "<style scoped>\n",
       "    .dataframe tbody tr th:only-of-type {\n",
       "        vertical-align: middle;\n",
       "    }\n",
       "\n",
       "    .dataframe tbody tr th {\n",
       "        vertical-align: top;\n",
       "    }\n",
       "\n",
       "    .dataframe thead th {\n",
       "        text-align: right;\n",
       "    }\n",
       "</style>\n",
       "<table border=\"1\" class=\"dataframe\">\n",
       "  <thead>\n",
       "    <tr style=\"text-align: right;\">\n",
       "      <th></th>\n",
       "      <th>Name</th>\n",
       "      <th>Age</th>\n",
       "      <th>Gender</th>\n",
       "      <th>Email</th>\n",
       "      <th>Join_Date</th>\n",
       "      <th>Salary</th>\n",
       "      <th>Department</th>\n",
       "    </tr>\n",
       "  </thead>\n",
       "  <tbody>\n",
       "    <tr>\n",
       "      <th>95</th>\n",
       "      <td>Frank</td>\n",
       "      <td>NaN</td>\n",
       "      <td>Male</td>\n",
       "      <td>NaN</td>\n",
       "      <td>NaN</td>\n",
       "      <td>50000</td>\n",
       "      <td>NaN</td>\n",
       "    </tr>\n",
       "    <tr>\n",
       "      <th>96</th>\n",
       "      <td>Grace</td>\n",
       "      <td>40</td>\n",
       "      <td>Male</td>\n",
       "      <td>NaN</td>\n",
       "      <td>NaN</td>\n",
       "      <td>70000</td>\n",
       "      <td>Sales</td>\n",
       "    </tr>\n",
       "    <tr>\n",
       "      <th>97</th>\n",
       "      <td>Hannah</td>\n",
       "      <td>NaN</td>\n",
       "      <td>Male</td>\n",
       "      <td>NaN</td>\n",
       "      <td>2020/01/01</td>\n",
       "      <td>60000</td>\n",
       "      <td>NaN</td>\n",
       "    </tr>\n",
       "    <tr>\n",
       "      <th>98</th>\n",
       "      <td>Ivy</td>\n",
       "      <td>NaN</td>\n",
       "      <td>F</td>\n",
       "      <td>NaN</td>\n",
       "      <td>2020/01/01</td>\n",
       "      <td>50000</td>\n",
       "      <td>NaN</td>\n",
       "    </tr>\n",
       "    <tr>\n",
       "      <th>99</th>\n",
       "      <td>Jack</td>\n",
       "      <td>NaN</td>\n",
       "      <td>NaN</td>\n",
       "      <td>NaN</td>\n",
       "      <td>July 4, 2020</td>\n",
       "      <td>60000</td>\n",
       "      <td>Admin</td>\n",
       "    </tr>\n",
       "    <tr>\n",
       "      <th>100</th>\n",
       "      <td>Alice</td>\n",
       "      <td>NaN</td>\n",
       "      <td>NaN</td>\n",
       "      <td>user0@example.com</td>\n",
       "      <td>2021-05-21</td>\n",
       "      <td>NaN</td>\n",
       "      <td>Admin</td>\n",
       "    </tr>\n",
       "    <tr>\n",
       "      <th>101</th>\n",
       "      <td>Bob</td>\n",
       "      <td>40</td>\n",
       "      <td>M</td>\n",
       "      <td>user1@example.com</td>\n",
       "      <td>NaN</td>\n",
       "      <td>50000</td>\n",
       "      <td>Engineering</td>\n",
       "    </tr>\n",
       "    <tr>\n",
       "      <th>102</th>\n",
       "      <td>Charlie</td>\n",
       "      <td>unknown</td>\n",
       "      <td>Male</td>\n",
       "      <td>user2@example.com</td>\n",
       "      <td>2020/01/01</td>\n",
       "      <td>50000</td>\n",
       "      <td>HR</td>\n",
       "    </tr>\n",
       "    <tr>\n",
       "      <th>103</th>\n",
       "      <td>David</td>\n",
       "      <td>NaN</td>\n",
       "      <td>NaN</td>\n",
       "      <td>user3@example.com</td>\n",
       "      <td>2021-05-21</td>\n",
       "      <td>70000</td>\n",
       "      <td>Admin</td>\n",
       "    </tr>\n",
       "    <tr>\n",
       "      <th>104</th>\n",
       "      <td>Eva</td>\n",
       "      <td>35</td>\n",
       "      <td>Other</td>\n",
       "      <td>user4@example.com</td>\n",
       "      <td>July 4, 2020</td>\n",
       "      <td>70000</td>\n",
       "      <td>Engineering</td>\n",
       "    </tr>\n",
       "  </tbody>\n",
       "</table>\n",
       "</div>"
      ],
      "text/plain": [
       "        Name      Age Gender              Email     Join_Date Salary  \\\n",
       "95     Frank      NaN   Male                NaN           NaN  50000   \n",
       "96     Grace       40   Male                NaN           NaN  70000   \n",
       "97    Hannah      NaN   Male                NaN    2020/01/01  60000   \n",
       "98       Ivy      NaN      F                NaN    2020/01/01  50000   \n",
       "99      Jack      NaN    NaN                NaN  July 4, 2020  60000   \n",
       "100    Alice      NaN    NaN  user0@example.com    2021-05-21    NaN   \n",
       "101      Bob       40      M  user1@example.com           NaN  50000   \n",
       "102  Charlie  unknown   Male  user2@example.com    2020/01/01  50000   \n",
       "103    David      NaN    NaN  user3@example.com    2021-05-21  70000   \n",
       "104      Eva       35  Other  user4@example.com  July 4, 2020  70000   \n",
       "\n",
       "      Department  \n",
       "95           NaN  \n",
       "96         Sales  \n",
       "97           NaN  \n",
       "98           NaN  \n",
       "99         Admin  \n",
       "100        Admin  \n",
       "101  Engineering  \n",
       "102           HR  \n",
       "103        Admin  \n",
       "104  Engineering  "
      ]
     },
     "execution_count": 4,
     "metadata": {},
     "output_type": "execute_result"
    }
   ],
   "source": [
    "df.tail(10)"
   ]
  },
  {
   "cell_type": "code",
   "execution_count": 2,
   "id": "39f93a39-5dde-4e0f-871d-ae70e57ca593",
   "metadata": {},
   "outputs": [
    {
     "data": {
      "text/plain": [
       "'        Name      Age  Gender               Email     Join_Date   Salary   Department\\n0      Alice      NaN     NaN   user0@example.com    2021-05-21      NaN        Admin\\n1        Bob       40       M   user1@example.com           NaN    50000  Engineering\\n2    Charlie  unknown    Male   user2@example.com    2020/01/01    50000           HR\\n3      David      NaN     NaN   user3@example.com    2021-05-21    70000        Admin\\n4        Eva       35   Other   user4@example.com  July 4, 2020    70000  Engineering\\n5      Frank  unknown   Other   user5@example.com           NaN    70000        Admin\\n6      Grace  unknown  Female   user6@example.com  July 4, 2020    80000  Engineering\\n7     Hannah      NaN   Other   user7@example.com    2021-05-21      NaN           HR\\n8        Ivy       30  Female   user8@example.com           NaN    50000  Engineering\\n9       Jack       35    Male   user9@example.com    2020/01/01    80000  Engineering\\n10     Alice      NaN       M  user10@example.com    2021-05-21    70000  Engineering\\n11       Bob       35       M  user11@example.com  July 4, 2020    50000        Sales\\n12   Charlie       35       M  user12@example.com    22-06-2022    80000        Sales\\n13     David  unknown   Other  user13@example.com           NaN      NaN        Sales\\n14       Eva       40    Male  user14@example.com  July 4, 2020    80000           HR\\n15     Frank       35   Other  user15@example.com           NaN      NaN        Admin\\n16     Grace      NaN   Other  user16@example.com    2021-05-21    70000          NaN\\n17    Hannah  unknown    Male  user17@example.com           NaN      NaN  Engineering\\n18       Ivy       30    Male  user18@example.com    2021-05-21    50000  Engineering\\n19      Jack       40    Male  user19@example.com           NaN    70000           HR\\n20     Alice      NaN    Male  user20@example.com    2021-05-21    50000  Engineering\\n21       Bob      NaN       M  user21@example.com    22-06-2022  unknown        Sales\\n22   Charlie       30       F  user22@example.com           NaN    60000          NaN\\n23     David       40       F  user23@example.com           NaN      NaN    Marketing\\n24       Eva  unknown    Male  user24@example.com           NaN    60000  Engineering\\n25     Frank       25       F  user25@example.com    22-06-2022    60000        Sales\\n26     Grace       40       F  user26@example.com  July 4, 2020      NaN    Marketing\\n27    Hannah       30    Male  user27@example.com    2021-05-21    70000          NaN\\n28       Ivy      NaN       F  user28@example.com    2020/01/01  unknown    Marketing\\n29      Jack  unknown   Other  user29@example.com    2021-05-21    50000        Sales\\n30     Alice       40  Female  user30@example.com    2021-05-21    80000        Admin\\n31       Bob       25  Female  user31@example.com  July 4, 2020    50000        Admin\\n32   Charlie       25    Male  user32@example.com    2021-05-21    80000    Marketing\\n33     David       35       M  user33@example.com    22-06-2022    50000           HR\\n34       Eva       35    Male  user34@example.com    22-06-2022      NaN    Marketing\\n35     Frank      NaN       M  user35@example.com           NaN  unknown  Engineering\\n36     Grace       30  Female  user36@example.com           NaN    80000  Engineering\\n37    Hannah       40    Male  user37@example.com    2020/01/01      NaN        Admin\\n38       Ivy       40     NaN  user38@example.com    2021-05-21    70000           HR\\n39      Jack      NaN   Other  user39@example.com    2021-05-21    50000        Sales\\n40     Alice      NaN       F  user40@example.com  July 4, 2020    50000  Engineering\\n41       Bob      NaN       M  user41@example.com           NaN    80000        Admin\\n42   Charlie      NaN     NaN  user42@example.com    22-06-2022    70000          NaN\\n43     David      NaN       F  user43@example.com    2020/01/01    70000        Admin\\n44       Eva       35       F  user44@example.com           NaN      NaN  Engineering\\n45     Frank       40    Male  user45@example.com    22-06-2022      NaN  Engineering\\n46     Grace      NaN       F  user46@example.com           NaN      NaN        Admin\\n47    Hannah       40   Other  user47@example.com           NaN      NaN        Sales\\n48       Ivy       25     NaN  user48@example.com  July 4, 2020      NaN    Marketing\\n49      Jack       35       F  user49@example.com  July 4, 2020      NaN  Engineering\\n50     Alice  unknown    Male  user50@example.com    2021-05-21      NaN        Admin\\n51       Bob       35   Other  user51@example.com           NaN  unknown        Admin\\n52   Charlie      NaN  Female  user52@example.com    2020/01/01    70000           HR\\n53     David  unknown     NaN  user53@example.com           NaN      NaN    Marketing\\n54       Eva       25       F  user54@example.com    22-06-2022    70000          NaN\\n55     Frank      NaN    Male  user55@example.com           NaN    70000        Sales\\n56     Grace       30  Female  user56@example.com           NaN    60000          NaN\\n57    Hannah       40  Female  user57@example.com  July 4, 2020  unknown    Marketing\\n58       Ivy       25       M  user58@example.com    2021-05-21      NaN    Marketing\\n59      Jack       40   Other  user59@example.com    2021-05-21    50000    Marketing\\n60     Alice      NaN       F  user60@example.com           NaN    80000          NaN\\n61       Bob       30    Male  user61@example.com  July 4, 2020      NaN    Marketing\\n62   Charlie       30       M  user62@example.com           NaN    50000        Admin\\n63     David       25   Other  user63@example.com    2020/01/01  unknown          NaN\\n64       Eva       30       M  user64@example.com  July 4, 2020    80000    Marketing\\n65     Frank  unknown     NaN  user65@example.com           NaN  unknown        Admin\\n66     Grace       30   Other  user66@example.com           NaN    70000           HR\\n67    Hannah       40   Other  user67@example.com  July 4, 2020    80000    Marketing\\n68       Ivy       40       F  user68@example.com           NaN    70000          NaN\\n69      Jack      NaN   Other  user69@example.com  July 4, 2020    50000  Engineering\\n70     Alice       40       M  user70@example.com    22-06-2022    50000    Marketing\\n71       Bob      NaN   Other  user71@example.com  July 4, 2020    80000  Engineering\\n72   Charlie       40       F  user72@example.com  July 4, 2020    80000        Admin\\n73     David  unknown       F  user73@example.com           NaN      NaN           HR\\n74       Eva      NaN     NaN  user74@example.com           NaN  unknown        Sales\\n75     Frank       35       M  user75@example.com    2021-05-21      NaN           HR\\n76     Grace      NaN  Female  user76@example.com    2021-05-21  unknown    Marketing\\n77    Hannah       25  Female  user77@example.com    22-06-2022      NaN  Engineering\\n78       Ivy       40   Other  user78@example.com    2021-05-21    70000  Engineering\\n79      Jack       30     NaN  user79@example.com  July 4, 2020    80000          NaN\\n80     Alice       40    Male  user80@example.com           NaN    50000  Engineering\\n81       Bob       30   Other  user81@example.com    2021-05-21  unknown          NaN\\n82   Charlie      NaN     NaN  user82@example.com    2021-05-21  unknown        Admin\\n83     David      NaN       M  user83@example.com    22-06-2022    50000        Sales\\n84       Eva      NaN       M  user84@example.com           NaN      NaN    Marketing\\n85     Frank       30       M  user85@example.com    22-06-2022  unknown          NaN\\n86     Grace       40       M  user86@example.com  July 4, 2020      NaN        Sales\\n87    Hannah      NaN       M  user87@example.com           NaN    70000  Engineering\\n88       Ivy  unknown     NaN  user88@example.com    22-06-2022    80000  Engineering\\n89      Jack      NaN     NaN  user89@example.com    2021-05-21    50000        Sales\\n90     Alice       30       F                 NaN           NaN    80000  Engineering\\n91       Bob       30  Female                 NaN           NaN      NaN        Admin\\n92   Charlie       40       M                 NaN    2021-05-21  unknown        Admin\\n93     David       30    Male                 NaN    22-06-2022  unknown        Sales\\n94       Eva       30     NaN                 NaN    2021-05-21      NaN          NaN\\n95     Frank      NaN    Male                 NaN           NaN    50000          NaN\\n96     Grace       40    Male                 NaN           NaN    70000        Sales\\n97    Hannah      NaN    Male                 NaN    2020/01/01    60000          NaN\\n98       Ivy      NaN       F                 NaN    2020/01/01    50000          NaN\\n99      Jack      NaN     NaN                 NaN  July 4, 2020    60000        Admin\\n100    Alice      NaN     NaN   user0@example.com    2021-05-21      NaN        Admin\\n101      Bob       40       M   user1@example.com           NaN    50000  Engineering\\n102  Charlie  unknown    Male   user2@example.com    2020/01/01    50000           HR\\n103    David      NaN     NaN   user3@example.com    2021-05-21    70000        Admin\\n104      Eva       35   Other   user4@example.com  July 4, 2020    70000  Engineering'"
      ]
     },
     "execution_count": 2,
     "metadata": {},
     "output_type": "execute_result"
    }
   ],
   "source": [
    "df.to_string()"
   ]
  },
  {
   "cell_type": "code",
   "execution_count": 3,
   "id": "6c94324a-e79a-473e-b2b1-ec012887ad4d",
   "metadata": {},
   "outputs": [
    {
     "name": "stdout",
     "output_type": "stream",
     "text": [
      "<class 'pandas.core.frame.DataFrame'>\n",
      "RangeIndex: 105 entries, 0 to 104\n",
      "Data columns (total 7 columns):\n",
      " #   Column      Non-Null Count  Dtype \n",
      "---  ------      --------------  ----- \n",
      " 0   Name        105 non-null    object\n",
      " 1   Age         72 non-null     object\n",
      " 2   Gender      89 non-null     object\n",
      " 3   Email       95 non-null     object\n",
      " 4   Join_Date   70 non-null     object\n",
      " 5   Salary      78 non-null     object\n",
      " 6   Department  89 non-null     object\n",
      "dtypes: object(7)\n",
      "memory usage: 5.9+ KB\n"
     ]
    }
   ],
   "source": [
    "df.info()"
   ]
  },
  {
   "cell_type": "code",
   "execution_count": null,
   "id": "6ced198a-f27c-4b8a-b492-f4748c686fda",
   "metadata": {},
   "outputs": [],
   "source": [
    "#age should be int it can't be object \n",
    "#there is incorrect format of data is available\n",
    "#Date should be in the date format\n",
    "#salary should be in integer type"
   ]
  },
  {
   "cell_type": "code",
   "execution_count": 7,
   "id": "7504d0f4-2c81-4de9-9e05-9cbadd54c5f1",
   "metadata": {},
   "outputs": [
    {
     "data": {
      "text/plain": [
       "5"
      ]
     },
     "execution_count": 7,
     "metadata": {},
     "output_type": "execute_result"
    }
   ],
   "source": [
    "#SEARCHING FOR DUPLICATES\n",
    "df.duplicated().sum() #count of duplicate values"
   ]
  },
  {
   "cell_type": "code",
   "execution_count": 10,
   "id": "71d67320-3a9b-4b12-b806-404fa493663d",
   "metadata": {},
   "outputs": [],
   "source": [
    "#removing duplicates\n",
    "df.drop_duplicates(inplace=True)"
   ]
  },
  {
   "cell_type": "code",
   "execution_count": 11,
   "id": "258bb29c-c63f-45ae-8a1d-bf590d039905",
   "metadata": {},
   "outputs": [
    {
     "data": {
      "text/plain": [
       "0"
      ]
     },
     "execution_count": 11,
     "metadata": {},
     "output_type": "execute_result"
    }
   ],
   "source": [
    "df.duplicated().sum()"
   ]
  },
  {
   "cell_type": "code",
   "execution_count": 13,
   "id": "a666e685-caa3-4417-bead-f1341accc807",
   "metadata": {},
   "outputs": [
    {
     "data": {
      "text/plain": [
       "Index(['Name', 'Age', 'Gender', 'Email', 'Join_Date', 'Salary', 'Department'], dtype='object')"
      ]
     },
     "execution_count": 13,
     "metadata": {},
     "output_type": "execute_result"
    }
   ],
   "source": [
    "#columns\n",
    "df.columns"
   ]
  },
  {
   "cell_type": "code",
   "execution_count": 16,
   "id": "c0a50fcc-ad2a-418b-9e55-414766611b56",
   "metadata": {},
   "outputs": [],
   "source": [
    "#handling age \n",
    "df[\"Age\"]=pd.to_numeric(df[\"Age\"],errors='coerce')"
   ]
  },
  {
   "cell_type": "code",
   "execution_count": 20,
   "id": "32cc79fd-1b72-494e-bea8-ec7300142fa4",
   "metadata": {},
   "outputs": [],
   "source": [
    "x=df[\"Age\"].median()\n",
    "x\n",
    "df[\"Age\"]=pd.to_numeric(df[\"Age\"],errors=\"coerce\")"
   ]
  },
  {
   "cell_type": "code",
   "execution_count": 22,
   "id": "94e701c6-1fd2-4887-8330-a050642b2397",
   "metadata": {},
   "outputs": [
    {
     "name": "stderr",
     "output_type": "stream",
     "text": [
      "C:\\Users\\swaro\\AppData\\Local\\Temp\\ipykernel_2520\\2053316563.py:2: FutureWarning: A value is trying to be set on a copy of a DataFrame or Series through chained assignment using an inplace method.\n",
      "The behavior will change in pandas 3.0. This inplace method will never work because the intermediate object on which we are setting values always behaves as a copy.\n",
      "\n",
      "For example, when doing 'df[col].method(value, inplace=True)', try using 'df.method({col: value}, inplace=True)' or df[col] = df[col].method(value) instead, to perform the operation inplace on the original object.\n",
      "\n",
      "\n",
      "  df[\"Age\"].fillna(x,inplace=True)\n"
     ]
    }
   ],
   "source": [
    "x=df[\"Age\"].median()\n",
    "df[\"Age\"].fillna(x,inplace=True)"
   ]
  },
  {
   "cell_type": "code",
   "execution_count": 24,
   "id": "23efc3fd-e38d-468d-b3f6-32e31eb217eb",
   "metadata": {},
   "outputs": [
    {
     "data": {
      "text/plain": [
       "array([35., 40., 30., 25.])"
      ]
     },
     "execution_count": 24,
     "metadata": {},
     "output_type": "execute_result"
    }
   ],
   "source": [
    "df[\"Age\"].unique()"
   ]
  },
  {
   "cell_type": "code",
   "execution_count": 26,
   "id": "32b823e8-7286-4541-bb48-617dd3c2a813",
   "metadata": {},
   "outputs": [
    {
     "data": {
      "text/plain": [
       "array([nan, 'M', 'Male', 'Other', 'Female', 'F'], dtype=object)"
      ]
     },
     "execution_count": 26,
     "metadata": {},
     "output_type": "execute_result"
    }
   ],
   "source": [
    "#handling gender column\n",
    "df[\"Gender\"].unique()"
   ]
  },
  {
   "cell_type": "code",
   "execution_count": 28,
   "id": "5882b07c-ecf4-4e93-ac2b-e57f2da60098",
   "metadata": {},
   "outputs": [],
   "source": [
    "#replacing values using replace function\n",
    "df[\"Gender\"]=df[\"Gender\"].replace({\"M\":\"Male\",\"F\":\"Female\",\"\":\"None\"})         #Replacing 'M' to 'Male' & 'F' to 'Female'"
   ]
  },
  {
   "cell_type": "code",
   "execution_count": 34,
   "id": "40dc6d88-526c-4419-943d-454372e08742",
   "metadata": {},
   "outputs": [],
   "source": [
    "#filling the blank places in email column\n",
    "df[\"Email\"].fillna(\"Null\",inplace=True)"
   ]
  },
  {
   "cell_type": "code",
   "execution_count": 35,
   "id": "99007882-7604-42a7-82ff-0228e91b322f",
   "metadata": {},
   "outputs": [
    {
     "name": "stdout",
     "output_type": "stream",
     "text": [
      "<bound method DataFrame.to_string of        Name   Age  Gender              Email     Join_Date Salary   Department\n",
      "0     Alice  35.0     NaN  user0@example.com    2021-05-21    NaN        Admin\n",
      "1       Bob  40.0    Male  user1@example.com           NaN  50000  Engineering\n",
      "2   Charlie  35.0    Male  user2@example.com    2020/01/01  50000           HR\n",
      "3     David  35.0     NaN  user3@example.com    2021-05-21  70000        Admin\n",
      "4       Eva  35.0   Other  user4@example.com  July 4, 2020  70000  Engineering\n",
      "..      ...   ...     ...                ...           ...    ...          ...\n",
      "95    Frank  35.0    Male                  -           NaN  50000          NaN\n",
      "96    Grace  40.0    Male                  -           NaN  70000        Sales\n",
      "97   Hannah  35.0    Male                  -    2020/01/01  60000          NaN\n",
      "98      Ivy  35.0  Female                  -    2020/01/01  50000          NaN\n",
      "99     Jack  35.0     NaN                  -  July 4, 2020  60000        Admin\n",
      "\n",
      "[100 rows x 7 columns]>\n"
     ]
    }
   ],
   "source": [
    "print(df.to_string)"
   ]
  },
  {
   "cell_type": "code",
   "execution_count": 36,
   "id": "c77e46b9-4cf9-4e68-b36a-330734dd6475",
   "metadata": {},
   "outputs": [
    {
     "name": "stdout",
     "output_type": "stream",
     "text": [
      "<class 'pandas.core.frame.DataFrame'>\n",
      "Index: 100 entries, 0 to 99\n",
      "Data columns (total 7 columns):\n",
      " #   Column      Non-Null Count  Dtype  \n",
      "---  ------      --------------  -----  \n",
      " 0   Name        100 non-null    object \n",
      " 1   Age         100 non-null    float64\n",
      " 2   Gender      86 non-null     object \n",
      " 3   Email       100 non-null    object \n",
      " 4   Join_Date   66 non-null     object \n",
      " 5   Salary      74 non-null     object \n",
      " 6   Department  84 non-null     object \n",
      "dtypes: float64(1), object(6)\n",
      "memory usage: 6.2+ KB\n"
     ]
    }
   ],
   "source": [
    "df.info()"
   ]
  },
  {
   "cell_type": "code",
   "execution_count": 40,
   "id": "9921a610-e4a4-4f96-a68b-6d288a1f38f0",
   "metadata": {},
   "outputs": [],
   "source": [
    "#handling date_time column\n",
    "df[\"Join_Date\"]=pd.to_datetime(df[\"Join_Date\"],errors=\"coerce\")"
   ]
  },
  {
   "cell_type": "code",
   "execution_count": 41,
   "id": "ec2fd354-e48c-444d-a0c6-caf9e9cbcd1d",
   "metadata": {},
   "outputs": [
    {
     "name": "stdout",
     "output_type": "stream",
     "text": [
      "<class 'pandas.core.frame.DataFrame'>\n",
      "Index: 100 entries, 0 to 99\n",
      "Data columns (total 7 columns):\n",
      " #   Column      Non-Null Count  Dtype         \n",
      "---  ------      --------------  -----         \n",
      " 0   Name        100 non-null    object        \n",
      " 1   Age         100 non-null    float64       \n",
      " 2   Gender      86 non-null     object        \n",
      " 3   Email       100 non-null    object        \n",
      " 4   Join_Date   24 non-null     datetime64[ns]\n",
      " 5   Salary      74 non-null     object        \n",
      " 6   Department  84 non-null     object        \n",
      "dtypes: datetime64[ns](1), float64(1), object(5)\n",
      "memory usage: 6.2+ KB\n"
     ]
    }
   ],
   "source": [
    "df.info()"
   ]
  },
  {
   "cell_type": "code",
   "execution_count": 44,
   "id": "af0146b5-0420-4992-a127-e8d0500b923f",
   "metadata": {},
   "outputs": [],
   "source": [
    "df[\"Salary\"]=pd.to_numeric(df[\"Salary\"],errors=\"coerce\")"
   ]
  },
  {
   "cell_type": "code",
   "execution_count": 45,
   "id": "bdb0ed9f-89b2-466c-85ca-9323ac768882",
   "metadata": {},
   "outputs": [
    {
     "name": "stdout",
     "output_type": "stream",
     "text": [
      "<class 'pandas.core.frame.DataFrame'>\n",
      "Index: 100 entries, 0 to 99\n",
      "Data columns (total 7 columns):\n",
      " #   Column      Non-Null Count  Dtype         \n",
      "---  ------      --------------  -----         \n",
      " 0   Name        100 non-null    object        \n",
      " 1   Age         100 non-null    float64       \n",
      " 2   Gender      86 non-null     object        \n",
      " 3   Email       100 non-null    object        \n",
      " 4   Join_Date   24 non-null     datetime64[ns]\n",
      " 5   Salary      60 non-null     float64       \n",
      " 6   Department  84 non-null     object        \n",
      "dtypes: datetime64[ns](1), float64(2), object(4)\n",
      "memory usage: 6.2+ KB\n"
     ]
    }
   ],
   "source": [
    "df.info()"
   ]
  },
  {
   "cell_type": "code",
   "execution_count": 46,
   "id": "34ce2198-7ee5-4310-b78e-820accbded83",
   "metadata": {},
   "outputs": [
    {
     "data": {
      "text/plain": [
       "array(['Admin', 'Engineering', 'HR', 'Sales', nan, 'Marketing'],\n",
       "      dtype=object)"
      ]
     },
     "execution_count": 46,
     "metadata": {},
     "output_type": "execute_result"
    }
   ],
   "source": [
    "df[\"Department\"].unique()"
   ]
  },
  {
   "cell_type": "code",
   "execution_count": 50,
   "id": "52d1deb5-88ae-4893-b456-b11adea04364",
   "metadata": {},
   "outputs": [
    {
     "data": {
      "text/plain": [
       "'Engineering'"
      ]
     },
     "execution_count": 50,
     "metadata": {},
     "output_type": "execute_result"
    }
   ],
   "source": [
    "#Handling missing values of department column\n",
    "z=df[\"Department\"].mode()[0]\n",
    "z"
   ]
  },
  {
   "cell_type": "code",
   "execution_count": 49,
   "id": "f8ff977f-3af8-4ca1-a002-fb8d1f839536",
   "metadata": {},
   "outputs": [
    {
     "name": "stderr",
     "output_type": "stream",
     "text": [
      "C:\\Users\\swaro\\AppData\\Local\\Temp\\ipykernel_2520\\2382338656.py:1: FutureWarning: A value is trying to be set on a copy of a DataFrame or Series through chained assignment using an inplace method.\n",
      "The behavior will change in pandas 3.0. This inplace method will never work because the intermediate object on which we are setting values always behaves as a copy.\n",
      "\n",
      "For example, when doing 'df[col].method(value, inplace=True)', try using 'df.method({col: value}, inplace=True)' or df[col] = df[col].method(value) instead, to perform the operation inplace on the original object.\n",
      "\n",
      "\n",
      "  df[\"Department\"].fillna(z,inplace=True)\n"
     ]
    }
   ],
   "source": [
    "df[\"Department\"].fillna(z,inplace=True)"
   ]
  },
  {
   "cell_type": "code",
   "execution_count": 53,
   "id": "f44641c9-a8c5-4549-ab03-a99097209af6",
   "metadata": {},
   "outputs": [],
   "source": [
    "#save data into new file\n",
    "df.to_csv(\"cleaned_data_file.csv\")"
   ]
  },
  {
   "cell_type": "code",
   "execution_count": null,
   "id": "19f3efd0-1a42-4f64-ab2a-20d1d8352897",
   "metadata": {},
   "outputs": [],
   "source": []
  }
 ],
 "metadata": {
  "kernelspec": {
   "display_name": "Python 3 (ipykernel)",
   "language": "python",
   "name": "python3"
  },
  "language_info": {
   "codemirror_mode": {
    "name": "ipython",
    "version": 3
   },
   "file_extension": ".py",
   "mimetype": "text/x-python",
   "name": "python",
   "nbconvert_exporter": "python",
   "pygments_lexer": "ipython3",
   "version": "3.12.7"
  }
 },
 "nbformat": 4,
 "nbformat_minor": 5
}
